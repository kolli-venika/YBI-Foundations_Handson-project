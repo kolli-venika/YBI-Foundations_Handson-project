{
 "cells": [
  {
   "cell_type": "markdown",
   "id": "38b844c3",
   "metadata": {},
   "source": [
    "# Hill and Valley Prediction using Logistic Regression"
   ]
  },
  {
   "cell_type": "markdown",
   "id": "e98655a2",
   "metadata": {},
   "source": [
    "## Import Library"
   ]
  },
  {
   "cell_type": "code",
   "execution_count": 1,
   "id": "05ceae6b",
   "metadata": {},
   "outputs": [],
   "source": [
    "import pandas as pd\n",
    "import numpy as np\n",
    "import matplotlib.pyplot as plt\n",
    "import seaborn as sns"
   ]
  },
  {
   "cell_type": "markdown",
   "id": "41c89eaf",
   "metadata": {},
   "source": [
    "## Import CSV as DataFrame"
   ]
  },
  {
   "cell_type": "code",
   "execution_count": 2,
   "id": "2dae25ed",
   "metadata": {},
   "outputs": [],
   "source": [
    "df=pd.read_csv('https://raw.githubusercontent.com/YBI-Foundation/Dataset/main/Hill%20Valley%20Dataset.csv')"
   ]
  },
  {
   "cell_type": "markdown",
   "id": "64a139c1",
   "metadata": {},
   "source": [
    "## Get the First 5 Rows of DataFrame"
   ]
  },
  {
   "cell_type": "code",
   "execution_count": 3,
   "id": "c7ffab63",
   "metadata": {},
   "outputs": [
    {
     "data": {
      "text/html": [
       "<div>\n",
       "<style scoped>\n",
       "    .dataframe tbody tr th:only-of-type {\n",
       "        vertical-align: middle;\n",
       "    }\n",
       "\n",
       "    .dataframe tbody tr th {\n",
       "        vertical-align: top;\n",
       "    }\n",
       "\n",
       "    .dataframe thead th {\n",
       "        text-align: right;\n",
       "    }\n",
       "</style>\n",
       "<table border=\"1\" class=\"dataframe\">\n",
       "  <thead>\n",
       "    <tr style=\"text-align: right;\">\n",
       "      <th></th>\n",
       "      <th>V1</th>\n",
       "      <th>V2</th>\n",
       "      <th>V3</th>\n",
       "      <th>V4</th>\n",
       "      <th>V5</th>\n",
       "      <th>V6</th>\n",
       "      <th>V7</th>\n",
       "      <th>V8</th>\n",
       "      <th>V9</th>\n",
       "      <th>V10</th>\n",
       "      <th>...</th>\n",
       "      <th>V92</th>\n",
       "      <th>V93</th>\n",
       "      <th>V94</th>\n",
       "      <th>V95</th>\n",
       "      <th>V96</th>\n",
       "      <th>V97</th>\n",
       "      <th>V98</th>\n",
       "      <th>V99</th>\n",
       "      <th>V100</th>\n",
       "      <th>Class</th>\n",
       "    </tr>\n",
       "  </thead>\n",
       "  <tbody>\n",
       "    <tr>\n",
       "      <th>0</th>\n",
       "      <td>39.02</td>\n",
       "      <td>36.49</td>\n",
       "      <td>38.20</td>\n",
       "      <td>38.85</td>\n",
       "      <td>39.38</td>\n",
       "      <td>39.74</td>\n",
       "      <td>37.02</td>\n",
       "      <td>39.53</td>\n",
       "      <td>38.81</td>\n",
       "      <td>38.79</td>\n",
       "      <td>...</td>\n",
       "      <td>36.62</td>\n",
       "      <td>36.92</td>\n",
       "      <td>38.80</td>\n",
       "      <td>38.52</td>\n",
       "      <td>38.07</td>\n",
       "      <td>36.73</td>\n",
       "      <td>39.46</td>\n",
       "      <td>37.50</td>\n",
       "      <td>39.10</td>\n",
       "      <td>0</td>\n",
       "    </tr>\n",
       "    <tr>\n",
       "      <th>1</th>\n",
       "      <td>1.83</td>\n",
       "      <td>1.71</td>\n",
       "      <td>1.77</td>\n",
       "      <td>1.77</td>\n",
       "      <td>1.68</td>\n",
       "      <td>1.78</td>\n",
       "      <td>1.80</td>\n",
       "      <td>1.70</td>\n",
       "      <td>1.75</td>\n",
       "      <td>1.78</td>\n",
       "      <td>...</td>\n",
       "      <td>1.80</td>\n",
       "      <td>1.79</td>\n",
       "      <td>1.77</td>\n",
       "      <td>1.74</td>\n",
       "      <td>1.74</td>\n",
       "      <td>1.80</td>\n",
       "      <td>1.78</td>\n",
       "      <td>1.75</td>\n",
       "      <td>1.69</td>\n",
       "      <td>1</td>\n",
       "    </tr>\n",
       "    <tr>\n",
       "      <th>2</th>\n",
       "      <td>68177.69</td>\n",
       "      <td>66138.42</td>\n",
       "      <td>72981.88</td>\n",
       "      <td>74304.33</td>\n",
       "      <td>67549.66</td>\n",
       "      <td>69367.34</td>\n",
       "      <td>69169.41</td>\n",
       "      <td>73268.61</td>\n",
       "      <td>74465.84</td>\n",
       "      <td>72503.37</td>\n",
       "      <td>...</td>\n",
       "      <td>73438.88</td>\n",
       "      <td>71053.35</td>\n",
       "      <td>71112.62</td>\n",
       "      <td>74916.48</td>\n",
       "      <td>72571.58</td>\n",
       "      <td>66348.97</td>\n",
       "      <td>71063.72</td>\n",
       "      <td>67404.27</td>\n",
       "      <td>74920.24</td>\n",
       "      <td>1</td>\n",
       "    </tr>\n",
       "    <tr>\n",
       "      <th>3</th>\n",
       "      <td>44889.06</td>\n",
       "      <td>39191.86</td>\n",
       "      <td>40728.46</td>\n",
       "      <td>38576.36</td>\n",
       "      <td>45876.06</td>\n",
       "      <td>47034.00</td>\n",
       "      <td>46611.43</td>\n",
       "      <td>37668.32</td>\n",
       "      <td>40980.89</td>\n",
       "      <td>38466.15</td>\n",
       "      <td>...</td>\n",
       "      <td>42625.67</td>\n",
       "      <td>40684.20</td>\n",
       "      <td>46960.73</td>\n",
       "      <td>44546.80</td>\n",
       "      <td>45410.53</td>\n",
       "      <td>47139.44</td>\n",
       "      <td>43095.68</td>\n",
       "      <td>40888.34</td>\n",
       "      <td>39615.19</td>\n",
       "      <td>0</td>\n",
       "    </tr>\n",
       "    <tr>\n",
       "      <th>4</th>\n",
       "      <td>5.70</td>\n",
       "      <td>5.40</td>\n",
       "      <td>5.28</td>\n",
       "      <td>5.38</td>\n",
       "      <td>5.27</td>\n",
       "      <td>5.61</td>\n",
       "      <td>6.00</td>\n",
       "      <td>5.38</td>\n",
       "      <td>5.34</td>\n",
       "      <td>5.87</td>\n",
       "      <td>...</td>\n",
       "      <td>5.17</td>\n",
       "      <td>5.67</td>\n",
       "      <td>5.60</td>\n",
       "      <td>5.94</td>\n",
       "      <td>5.73</td>\n",
       "      <td>5.22</td>\n",
       "      <td>5.30</td>\n",
       "      <td>5.73</td>\n",
       "      <td>5.91</td>\n",
       "      <td>0</td>\n",
       "    </tr>\n",
       "  </tbody>\n",
       "</table>\n",
       "<p>5 rows × 101 columns</p>\n",
       "</div>"
      ],
      "text/plain": [
       "         V1        V2        V3        V4        V5        V6        V7  \\\n",
       "0     39.02     36.49     38.20     38.85     39.38     39.74     37.02   \n",
       "1      1.83      1.71      1.77      1.77      1.68      1.78      1.80   \n",
       "2  68177.69  66138.42  72981.88  74304.33  67549.66  69367.34  69169.41   \n",
       "3  44889.06  39191.86  40728.46  38576.36  45876.06  47034.00  46611.43   \n",
       "4      5.70      5.40      5.28      5.38      5.27      5.61      6.00   \n",
       "\n",
       "         V8        V9       V10  ...       V92       V93       V94       V95  \\\n",
       "0     39.53     38.81     38.79  ...     36.62     36.92     38.80     38.52   \n",
       "1      1.70      1.75      1.78  ...      1.80      1.79      1.77      1.74   \n",
       "2  73268.61  74465.84  72503.37  ...  73438.88  71053.35  71112.62  74916.48   \n",
       "3  37668.32  40980.89  38466.15  ...  42625.67  40684.20  46960.73  44546.80   \n",
       "4      5.38      5.34      5.87  ...      5.17      5.67      5.60      5.94   \n",
       "\n",
       "        V96       V97       V98       V99      V100  Class  \n",
       "0     38.07     36.73     39.46     37.50     39.10      0  \n",
       "1      1.74      1.80      1.78      1.75      1.69      1  \n",
       "2  72571.58  66348.97  71063.72  67404.27  74920.24      1  \n",
       "3  45410.53  47139.44  43095.68  40888.34  39615.19      0  \n",
       "4      5.73      5.22      5.30      5.73      5.91      0  \n",
       "\n",
       "[5 rows x 101 columns]"
      ]
     },
     "execution_count": 3,
     "metadata": {},
     "output_type": "execute_result"
    }
   ],
   "source": [
    "df.head()"
   ]
  },
  {
   "cell_type": "markdown",
   "id": "ff550fda",
   "metadata": {},
   "source": [
    "## Get Information of DataFrame"
   ]
  },
  {
   "cell_type": "code",
   "execution_count": 4,
   "id": "1d3d275e",
   "metadata": {},
   "outputs": [
    {
     "name": "stdout",
     "output_type": "stream",
     "text": [
      "<class 'pandas.core.frame.DataFrame'>\n",
      "RangeIndex: 1212 entries, 0 to 1211\n",
      "Columns: 101 entries, V1 to Class\n",
      "dtypes: float64(100), int64(1)\n",
      "memory usage: 956.5 KB\n"
     ]
    }
   ],
   "source": [
    "df.info()"
   ]
  },
  {
   "cell_type": "markdown",
   "id": "476d8344",
   "metadata": {},
   "source": [
    "## Get the Summary Statistics"
   ]
  },
  {
   "cell_type": "code",
   "execution_count": 5,
   "id": "7f815149",
   "metadata": {},
   "outputs": [
    {
     "data": {
      "text/html": [
       "<div>\n",
       "<style scoped>\n",
       "    .dataframe tbody tr th:only-of-type {\n",
       "        vertical-align: middle;\n",
       "    }\n",
       "\n",
       "    .dataframe tbody tr th {\n",
       "        vertical-align: top;\n",
       "    }\n",
       "\n",
       "    .dataframe thead th {\n",
       "        text-align: right;\n",
       "    }\n",
       "</style>\n",
       "<table border=\"1\" class=\"dataframe\">\n",
       "  <thead>\n",
       "    <tr style=\"text-align: right;\">\n",
       "      <th></th>\n",
       "      <th>V1</th>\n",
       "      <th>V2</th>\n",
       "      <th>V3</th>\n",
       "      <th>V4</th>\n",
       "      <th>V5</th>\n",
       "      <th>V6</th>\n",
       "      <th>V7</th>\n",
       "      <th>V8</th>\n",
       "      <th>V9</th>\n",
       "      <th>V10</th>\n",
       "      <th>...</th>\n",
       "      <th>V92</th>\n",
       "      <th>V93</th>\n",
       "      <th>V94</th>\n",
       "      <th>V95</th>\n",
       "      <th>V96</th>\n",
       "      <th>V97</th>\n",
       "      <th>V98</th>\n",
       "      <th>V99</th>\n",
       "      <th>V100</th>\n",
       "      <th>Class</th>\n",
       "    </tr>\n",
       "  </thead>\n",
       "  <tbody>\n",
       "    <tr>\n",
       "      <th>count</th>\n",
       "      <td>1212.000000</td>\n",
       "      <td>1212.000000</td>\n",
       "      <td>1212.000000</td>\n",
       "      <td>1212.000000</td>\n",
       "      <td>1212.000000</td>\n",
       "      <td>1212.000000</td>\n",
       "      <td>1212.000000</td>\n",
       "      <td>1212.000000</td>\n",
       "      <td>1212.000000</td>\n",
       "      <td>1212.000000</td>\n",
       "      <td>...</td>\n",
       "      <td>1212.000000</td>\n",
       "      <td>1212.000000</td>\n",
       "      <td>1212.000000</td>\n",
       "      <td>1212.000000</td>\n",
       "      <td>1212.000000</td>\n",
       "      <td>1212.000000</td>\n",
       "      <td>1212.000000</td>\n",
       "      <td>1212.000000</td>\n",
       "      <td>1212.000000</td>\n",
       "      <td>1212.000000</td>\n",
       "    </tr>\n",
       "    <tr>\n",
       "      <th>mean</th>\n",
       "      <td>8169.091881</td>\n",
       "      <td>8144.306262</td>\n",
       "      <td>8192.653738</td>\n",
       "      <td>8176.868738</td>\n",
       "      <td>8128.297211</td>\n",
       "      <td>8173.030008</td>\n",
       "      <td>8188.582748</td>\n",
       "      <td>8183.641543</td>\n",
       "      <td>8154.670066</td>\n",
       "      <td>8120.767574</td>\n",
       "      <td>...</td>\n",
       "      <td>8120.056815</td>\n",
       "      <td>8125.917409</td>\n",
       "      <td>8158.793812</td>\n",
       "      <td>8140.885421</td>\n",
       "      <td>8213.480611</td>\n",
       "      <td>8185.594002</td>\n",
       "      <td>8140.195355</td>\n",
       "      <td>8192.960891</td>\n",
       "      <td>8156.197376</td>\n",
       "      <td>0.500000</td>\n",
       "    </tr>\n",
       "    <tr>\n",
       "      <th>std</th>\n",
       "      <td>17974.950461</td>\n",
       "      <td>17881.049734</td>\n",
       "      <td>18087.938901</td>\n",
       "      <td>17991.903982</td>\n",
       "      <td>17846.757963</td>\n",
       "      <td>17927.114105</td>\n",
       "      <td>18029.562695</td>\n",
       "      <td>18048.582159</td>\n",
       "      <td>17982.390713</td>\n",
       "      <td>17900.798206</td>\n",
       "      <td>...</td>\n",
       "      <td>17773.190621</td>\n",
       "      <td>17758.182403</td>\n",
       "      <td>17919.510371</td>\n",
       "      <td>17817.945646</td>\n",
       "      <td>18016.445265</td>\n",
       "      <td>17956.084223</td>\n",
       "      <td>17768.356106</td>\n",
       "      <td>18064.781479</td>\n",
       "      <td>17829.310973</td>\n",
       "      <td>0.500206</td>\n",
       "    </tr>\n",
       "    <tr>\n",
       "      <th>min</th>\n",
       "      <td>0.920000</td>\n",
       "      <td>0.900000</td>\n",
       "      <td>0.850000</td>\n",
       "      <td>0.890000</td>\n",
       "      <td>0.880000</td>\n",
       "      <td>0.860000</td>\n",
       "      <td>0.870000</td>\n",
       "      <td>0.650000</td>\n",
       "      <td>0.650000</td>\n",
       "      <td>0.620000</td>\n",
       "      <td>...</td>\n",
       "      <td>0.870000</td>\n",
       "      <td>0.900000</td>\n",
       "      <td>0.870000</td>\n",
       "      <td>0.880000</td>\n",
       "      <td>0.890000</td>\n",
       "      <td>0.890000</td>\n",
       "      <td>0.860000</td>\n",
       "      <td>0.910000</td>\n",
       "      <td>0.890000</td>\n",
       "      <td>0.000000</td>\n",
       "    </tr>\n",
       "    <tr>\n",
       "      <th>25%</th>\n",
       "      <td>19.602500</td>\n",
       "      <td>19.595000</td>\n",
       "      <td>18.925000</td>\n",
       "      <td>19.277500</td>\n",
       "      <td>19.210000</td>\n",
       "      <td>19.582500</td>\n",
       "      <td>18.690000</td>\n",
       "      <td>19.062500</td>\n",
       "      <td>19.532500</td>\n",
       "      <td>19.285000</td>\n",
       "      <td>...</td>\n",
       "      <td>19.197500</td>\n",
       "      <td>18.895000</td>\n",
       "      <td>19.237500</td>\n",
       "      <td>19.385000</td>\n",
       "      <td>19.027500</td>\n",
       "      <td>19.135000</td>\n",
       "      <td>19.205000</td>\n",
       "      <td>18.812500</td>\n",
       "      <td>19.145000</td>\n",
       "      <td>0.000000</td>\n",
       "    </tr>\n",
       "    <tr>\n",
       "      <th>50%</th>\n",
       "      <td>301.425000</td>\n",
       "      <td>295.205000</td>\n",
       "      <td>297.260000</td>\n",
       "      <td>299.720000</td>\n",
       "      <td>295.115000</td>\n",
       "      <td>294.380000</td>\n",
       "      <td>295.935000</td>\n",
       "      <td>290.850000</td>\n",
       "      <td>294.565000</td>\n",
       "      <td>295.160000</td>\n",
       "      <td>...</td>\n",
       "      <td>297.845000</td>\n",
       "      <td>295.420000</td>\n",
       "      <td>299.155000</td>\n",
       "      <td>293.355000</td>\n",
       "      <td>301.370000</td>\n",
       "      <td>296.960000</td>\n",
       "      <td>300.925000</td>\n",
       "      <td>299.200000</td>\n",
       "      <td>302.275000</td>\n",
       "      <td>0.500000</td>\n",
       "    </tr>\n",
       "    <tr>\n",
       "      <th>75%</th>\n",
       "      <td>5358.795000</td>\n",
       "      <td>5417.847500</td>\n",
       "      <td>5393.367500</td>\n",
       "      <td>5388.482500</td>\n",
       "      <td>5321.987500</td>\n",
       "      <td>5328.040000</td>\n",
       "      <td>5443.977500</td>\n",
       "      <td>5283.655000</td>\n",
       "      <td>5378.180000</td>\n",
       "      <td>5319.097500</td>\n",
       "      <td>...</td>\n",
       "      <td>5355.355000</td>\n",
       "      <td>5386.037500</td>\n",
       "      <td>5286.385000</td>\n",
       "      <td>5345.797500</td>\n",
       "      <td>5300.890000</td>\n",
       "      <td>5361.047500</td>\n",
       "      <td>5390.850000</td>\n",
       "      <td>5288.712500</td>\n",
       "      <td>5357.847500</td>\n",
       "      <td>1.000000</td>\n",
       "    </tr>\n",
       "    <tr>\n",
       "      <th>max</th>\n",
       "      <td>117807.870000</td>\n",
       "      <td>108896.480000</td>\n",
       "      <td>119031.350000</td>\n",
       "      <td>110212.590000</td>\n",
       "      <td>113000.470000</td>\n",
       "      <td>116848.390000</td>\n",
       "      <td>115609.240000</td>\n",
       "      <td>118522.320000</td>\n",
       "      <td>112895.900000</td>\n",
       "      <td>117798.300000</td>\n",
       "      <td>...</td>\n",
       "      <td>113858.680000</td>\n",
       "      <td>112948.830000</td>\n",
       "      <td>112409.570000</td>\n",
       "      <td>112933.730000</td>\n",
       "      <td>112037.220000</td>\n",
       "      <td>115110.420000</td>\n",
       "      <td>116431.960000</td>\n",
       "      <td>113291.960000</td>\n",
       "      <td>114533.760000</td>\n",
       "      <td>1.000000</td>\n",
       "    </tr>\n",
       "  </tbody>\n",
       "</table>\n",
       "<p>8 rows × 101 columns</p>\n",
       "</div>"
      ],
      "text/plain": [
       "                  V1             V2             V3             V4  \\\n",
       "count    1212.000000    1212.000000    1212.000000    1212.000000   \n",
       "mean     8169.091881    8144.306262    8192.653738    8176.868738   \n",
       "std     17974.950461   17881.049734   18087.938901   17991.903982   \n",
       "min         0.920000       0.900000       0.850000       0.890000   \n",
       "25%        19.602500      19.595000      18.925000      19.277500   \n",
       "50%       301.425000     295.205000     297.260000     299.720000   \n",
       "75%      5358.795000    5417.847500    5393.367500    5388.482500   \n",
       "max    117807.870000  108896.480000  119031.350000  110212.590000   \n",
       "\n",
       "                  V5             V6             V7             V8  \\\n",
       "count    1212.000000    1212.000000    1212.000000    1212.000000   \n",
       "mean     8128.297211    8173.030008    8188.582748    8183.641543   \n",
       "std     17846.757963   17927.114105   18029.562695   18048.582159   \n",
       "min         0.880000       0.860000       0.870000       0.650000   \n",
       "25%        19.210000      19.582500      18.690000      19.062500   \n",
       "50%       295.115000     294.380000     295.935000     290.850000   \n",
       "75%      5321.987500    5328.040000    5443.977500    5283.655000   \n",
       "max    113000.470000  116848.390000  115609.240000  118522.320000   \n",
       "\n",
       "                  V9            V10  ...            V92            V93  \\\n",
       "count    1212.000000    1212.000000  ...    1212.000000    1212.000000   \n",
       "mean     8154.670066    8120.767574  ...    8120.056815    8125.917409   \n",
       "std     17982.390713   17900.798206  ...   17773.190621   17758.182403   \n",
       "min         0.650000       0.620000  ...       0.870000       0.900000   \n",
       "25%        19.532500      19.285000  ...      19.197500      18.895000   \n",
       "50%       294.565000     295.160000  ...     297.845000     295.420000   \n",
       "75%      5378.180000    5319.097500  ...    5355.355000    5386.037500   \n",
       "max    112895.900000  117798.300000  ...  113858.680000  112948.830000   \n",
       "\n",
       "                 V94            V95            V96            V97  \\\n",
       "count    1212.000000    1212.000000    1212.000000    1212.000000   \n",
       "mean     8158.793812    8140.885421    8213.480611    8185.594002   \n",
       "std     17919.510371   17817.945646   18016.445265   17956.084223   \n",
       "min         0.870000       0.880000       0.890000       0.890000   \n",
       "25%        19.237500      19.385000      19.027500      19.135000   \n",
       "50%       299.155000     293.355000     301.370000     296.960000   \n",
       "75%      5286.385000    5345.797500    5300.890000    5361.047500   \n",
       "max    112409.570000  112933.730000  112037.220000  115110.420000   \n",
       "\n",
       "                 V98            V99           V100        Class  \n",
       "count    1212.000000    1212.000000    1212.000000  1212.000000  \n",
       "mean     8140.195355    8192.960891    8156.197376     0.500000  \n",
       "std     17768.356106   18064.781479   17829.310973     0.500206  \n",
       "min         0.860000       0.910000       0.890000     0.000000  \n",
       "25%        19.205000      18.812500      19.145000     0.000000  \n",
       "50%       300.925000     299.200000     302.275000     0.500000  \n",
       "75%      5390.850000    5288.712500    5357.847500     1.000000  \n",
       "max    116431.960000  113291.960000  114533.760000     1.000000  \n",
       "\n",
       "[8 rows x 101 columns]"
      ]
     },
     "execution_count": 5,
     "metadata": {},
     "output_type": "execute_result"
    }
   ],
   "source": [
    "df.describe()"
   ]
  },
  {
   "cell_type": "markdown",
   "id": "935701f9",
   "metadata": {},
   "source": [
    "## Get Column Names"
   ]
  },
  {
   "cell_type": "code",
   "execution_count": 6,
   "id": "ab4e1a2e",
   "metadata": {},
   "outputs": [
    {
     "data": {
      "text/plain": [
       "Index(['V1', 'V2', 'V3', 'V4', 'V5', 'V6', 'V7', 'V8', 'V9', 'V10',\n",
       "       ...\n",
       "       'V92', 'V93', 'V94', 'V95', 'V96', 'V97', 'V98', 'V99', 'V100',\n",
       "       'Class'],\n",
       "      dtype='object', length=101)"
      ]
     },
     "execution_count": 6,
     "metadata": {},
     "output_type": "execute_result"
    }
   ],
   "source": [
    "df.columns"
   ]
  },
  {
   "cell_type": "code",
   "execution_count": 7,
   "id": "1578063a",
   "metadata": {},
   "outputs": [
    {
     "name": "stdout",
     "output_type": "stream",
     "text": [
      "['V1', 'V2', 'V3', 'V4', 'V5', 'V6', 'V7', 'V8', 'V9', 'V10', 'V11', 'V12', 'V13', 'V14', 'V15', 'V16', 'V17', 'V18', 'V19', 'V20', 'V21', 'V22', 'V23', 'V24', 'V25', 'V26', 'V27', 'V28', 'V29', 'V30', 'V31', 'V32', 'V33', 'V34', 'V35', 'V36', 'V37', 'V38', 'V39', 'V40', 'V41', 'V42', 'V43', 'V44', 'V45', 'V46', 'V47', 'V48', 'V49', 'V50', 'V51', 'V52', 'V53', 'V54', 'V55', 'V56', 'V57', 'V58', 'V59', 'V60', 'V61', 'V62', 'V63', 'V64', 'V65', 'V66', 'V67', 'V68', 'V69', 'V70', 'V71', 'V72', 'V73', 'V74', 'V75', 'V76', 'V77', 'V78', 'V79', 'V80', 'V81', 'V82', 'V83', 'V84', 'V85', 'V86', 'V87', 'V88', 'V89', 'V90', 'V91', 'V92', 'V93', 'V94', 'V95', 'V96', 'V97', 'V98', 'V99', 'V100', 'Class']\n"
     ]
    }
   ],
   "source": [
    "print(df.columns.to_list())"
   ]
  },
  {
   "cell_type": "markdown",
   "id": "bf8d4940",
   "metadata": {},
   "source": [
    "## Get Shape of DataFrame"
   ]
  },
  {
   "cell_type": "code",
   "execution_count": 8,
   "id": "9a73b61c",
   "metadata": {},
   "outputs": [
    {
     "data": {
      "text/plain": [
       "(1212, 101)"
      ]
     },
     "execution_count": 8,
     "metadata": {},
     "output_type": "execute_result"
    }
   ],
   "source": [
    "df.shape"
   ]
  },
  {
   "cell_type": "markdown",
   "id": "8d359f18",
   "metadata": {},
   "source": [
    "## Get Unique Values (Class or Label) in y Variable"
   ]
  },
  {
   "cell_type": "code",
   "execution_count": 9,
   "id": "a1db818b",
   "metadata": {},
   "outputs": [
    {
     "data": {
      "text/plain": [
       "0    606\n",
       "1    606\n",
       "Name: Class, dtype: int64"
      ]
     },
     "execution_count": 9,
     "metadata": {},
     "output_type": "execute_result"
    }
   ],
   "source": [
    "df['Class'].value_counts()"
   ]
  },
  {
   "cell_type": "code",
   "execution_count": 10,
   "id": "78cab715",
   "metadata": {},
   "outputs": [
    {
     "data": {
      "text/html": [
       "<div>\n",
       "<style scoped>\n",
       "    .dataframe tbody tr th:only-of-type {\n",
       "        vertical-align: middle;\n",
       "    }\n",
       "\n",
       "    .dataframe tbody tr th {\n",
       "        vertical-align: top;\n",
       "    }\n",
       "\n",
       "    .dataframe thead th {\n",
       "        text-align: right;\n",
       "    }\n",
       "</style>\n",
       "<table border=\"1\" class=\"dataframe\">\n",
       "  <thead>\n",
       "    <tr style=\"text-align: right;\">\n",
       "      <th></th>\n",
       "      <th>V1</th>\n",
       "      <th>V2</th>\n",
       "      <th>V3</th>\n",
       "      <th>V4</th>\n",
       "      <th>V5</th>\n",
       "      <th>V6</th>\n",
       "      <th>V7</th>\n",
       "      <th>V8</th>\n",
       "      <th>V9</th>\n",
       "      <th>V10</th>\n",
       "      <th>...</th>\n",
       "      <th>V91</th>\n",
       "      <th>V92</th>\n",
       "      <th>V93</th>\n",
       "      <th>V94</th>\n",
       "      <th>V95</th>\n",
       "      <th>V96</th>\n",
       "      <th>V97</th>\n",
       "      <th>V98</th>\n",
       "      <th>V99</th>\n",
       "      <th>V100</th>\n",
       "    </tr>\n",
       "    <tr>\n",
       "      <th>Class</th>\n",
       "      <th></th>\n",
       "      <th></th>\n",
       "      <th></th>\n",
       "      <th></th>\n",
       "      <th></th>\n",
       "      <th></th>\n",
       "      <th></th>\n",
       "      <th></th>\n",
       "      <th></th>\n",
       "      <th></th>\n",
       "      <th></th>\n",
       "      <th></th>\n",
       "      <th></th>\n",
       "      <th></th>\n",
       "      <th></th>\n",
       "      <th></th>\n",
       "      <th></th>\n",
       "      <th></th>\n",
       "      <th></th>\n",
       "      <th></th>\n",
       "      <th></th>\n",
       "    </tr>\n",
       "  </thead>\n",
       "  <tbody>\n",
       "    <tr>\n",
       "      <th>0</th>\n",
       "      <td>7913.333251</td>\n",
       "      <td>7825.339967</td>\n",
       "      <td>7902.497294</td>\n",
       "      <td>7857.032079</td>\n",
       "      <td>7775.610198</td>\n",
       "      <td>7875.436337</td>\n",
       "      <td>7804.166584</td>\n",
       "      <td>7722.324802</td>\n",
       "      <td>7793.328416</td>\n",
       "      <td>7686.782046</td>\n",
       "      <td>...</td>\n",
       "      <td>7753.427244</td>\n",
       "      <td>7737.843366</td>\n",
       "      <td>7799.332079</td>\n",
       "      <td>7825.211700</td>\n",
       "      <td>7791.354010</td>\n",
       "      <td>7927.237112</td>\n",
       "      <td>7874.502343</td>\n",
       "      <td>7844.227459</td>\n",
       "      <td>7875.338713</td>\n",
       "      <td>7855.181172</td>\n",
       "    </tr>\n",
       "    <tr>\n",
       "      <th>1</th>\n",
       "      <td>8424.850512</td>\n",
       "      <td>8463.272558</td>\n",
       "      <td>8482.810182</td>\n",
       "      <td>8496.705396</td>\n",
       "      <td>8480.984224</td>\n",
       "      <td>8470.623680</td>\n",
       "      <td>8572.998911</td>\n",
       "      <td>8644.958284</td>\n",
       "      <td>8516.011716</td>\n",
       "      <td>8554.753102</td>\n",
       "      <td>...</td>\n",
       "      <td>8478.513399</td>\n",
       "      <td>8502.270264</td>\n",
       "      <td>8452.502739</td>\n",
       "      <td>8492.375924</td>\n",
       "      <td>8490.416832</td>\n",
       "      <td>8499.724109</td>\n",
       "      <td>8496.685660</td>\n",
       "      <td>8436.163251</td>\n",
       "      <td>8510.583069</td>\n",
       "      <td>8457.213581</td>\n",
       "    </tr>\n",
       "  </tbody>\n",
       "</table>\n",
       "<p>2 rows × 100 columns</p>\n",
       "</div>"
      ],
      "text/plain": [
       "                V1           V2           V3           V4           V5  \\\n",
       "Class                                                                    \n",
       "0      7913.333251  7825.339967  7902.497294  7857.032079  7775.610198   \n",
       "1      8424.850512  8463.272558  8482.810182  8496.705396  8480.984224   \n",
       "\n",
       "                V6           V7           V8           V9          V10  ...  \\\n",
       "Class                                                                   ...   \n",
       "0      7875.436337  7804.166584  7722.324802  7793.328416  7686.782046  ...   \n",
       "1      8470.623680  8572.998911  8644.958284  8516.011716  8554.753102  ...   \n",
       "\n",
       "               V91          V92          V93          V94          V95  \\\n",
       "Class                                                                    \n",
       "0      7753.427244  7737.843366  7799.332079  7825.211700  7791.354010   \n",
       "1      8478.513399  8502.270264  8452.502739  8492.375924  8490.416832   \n",
       "\n",
       "               V96          V97          V98          V99         V100  \n",
       "Class                                                                   \n",
       "0      7927.237112  7874.502343  7844.227459  7875.338713  7855.181172  \n",
       "1      8499.724109  8496.685660  8436.163251  8510.583069  8457.213581  \n",
       "\n",
       "[2 rows x 100 columns]"
      ]
     },
     "execution_count": 10,
     "metadata": {},
     "output_type": "execute_result"
    }
   ],
   "source": [
    "df.groupby('Class').mean()"
   ]
  },
  {
   "cell_type": "markdown",
   "id": "c2d07343",
   "metadata": {},
   "source": [
    "## Define y (dependent or label or target variable) and X (independent or features or attribute variable)"
   ]
  },
  {
   "cell_type": "code",
   "execution_count": 11,
   "id": "0bc0ebeb",
   "metadata": {},
   "outputs": [],
   "source": [
    "y = df['Class']"
   ]
  },
  {
   "cell_type": "code",
   "execution_count": 12,
   "id": "e2603733",
   "metadata": {},
   "outputs": [
    {
     "data": {
      "text/plain": [
       "(1212,)"
      ]
     },
     "execution_count": 12,
     "metadata": {},
     "output_type": "execute_result"
    }
   ],
   "source": [
    "y.shape"
   ]
  },
  {
   "cell_type": "code",
   "execution_count": 13,
   "id": "b3000200",
   "metadata": {},
   "outputs": [
    {
     "data": {
      "text/plain": [
       "0       0\n",
       "1       1\n",
       "2       1\n",
       "3       0\n",
       "4       0\n",
       "       ..\n",
       "1207    1\n",
       "1208    0\n",
       "1209    1\n",
       "1210    1\n",
       "1211    0\n",
       "Name: Class, Length: 1212, dtype: int64"
      ]
     },
     "execution_count": 13,
     "metadata": {},
     "output_type": "execute_result"
    }
   ],
   "source": [
    "y"
   ]
  },
  {
   "cell_type": "code",
   "execution_count": 14,
   "id": "6c770a61",
   "metadata": {},
   "outputs": [],
   "source": [
    "x = df.drop('Class',axis=1)"
   ]
  },
  {
   "cell_type": "code",
   "execution_count": 15,
   "id": "321f7993",
   "metadata": {},
   "outputs": [
    {
     "data": {
      "text/plain": [
       "(1212, 100)"
      ]
     },
     "execution_count": 15,
     "metadata": {},
     "output_type": "execute_result"
    }
   ],
   "source": [
    "x.shape"
   ]
  },
  {
   "cell_type": "code",
   "execution_count": 16,
   "id": "8d9addae",
   "metadata": {},
   "outputs": [
    {
     "data": {
      "text/html": [
       "<div>\n",
       "<style scoped>\n",
       "    .dataframe tbody tr th:only-of-type {\n",
       "        vertical-align: middle;\n",
       "    }\n",
       "\n",
       "    .dataframe tbody tr th {\n",
       "        vertical-align: top;\n",
       "    }\n",
       "\n",
       "    .dataframe thead th {\n",
       "        text-align: right;\n",
       "    }\n",
       "</style>\n",
       "<table border=\"1\" class=\"dataframe\">\n",
       "  <thead>\n",
       "    <tr style=\"text-align: right;\">\n",
       "      <th></th>\n",
       "      <th>V1</th>\n",
       "      <th>V2</th>\n",
       "      <th>V3</th>\n",
       "      <th>V4</th>\n",
       "      <th>V5</th>\n",
       "      <th>V6</th>\n",
       "      <th>V7</th>\n",
       "      <th>V8</th>\n",
       "      <th>V9</th>\n",
       "      <th>V10</th>\n",
       "      <th>...</th>\n",
       "      <th>V91</th>\n",
       "      <th>V92</th>\n",
       "      <th>V93</th>\n",
       "      <th>V94</th>\n",
       "      <th>V95</th>\n",
       "      <th>V96</th>\n",
       "      <th>V97</th>\n",
       "      <th>V98</th>\n",
       "      <th>V99</th>\n",
       "      <th>V100</th>\n",
       "    </tr>\n",
       "  </thead>\n",
       "  <tbody>\n",
       "    <tr>\n",
       "      <th>0</th>\n",
       "      <td>39.02</td>\n",
       "      <td>36.49</td>\n",
       "      <td>38.20</td>\n",
       "      <td>38.85</td>\n",
       "      <td>39.38</td>\n",
       "      <td>39.74</td>\n",
       "      <td>37.02</td>\n",
       "      <td>39.53</td>\n",
       "      <td>38.81</td>\n",
       "      <td>38.79</td>\n",
       "      <td>...</td>\n",
       "      <td>37.57</td>\n",
       "      <td>36.62</td>\n",
       "      <td>36.92</td>\n",
       "      <td>38.80</td>\n",
       "      <td>38.52</td>\n",
       "      <td>38.07</td>\n",
       "      <td>36.73</td>\n",
       "      <td>39.46</td>\n",
       "      <td>37.50</td>\n",
       "      <td>39.10</td>\n",
       "    </tr>\n",
       "    <tr>\n",
       "      <th>1</th>\n",
       "      <td>1.83</td>\n",
       "      <td>1.71</td>\n",
       "      <td>1.77</td>\n",
       "      <td>1.77</td>\n",
       "      <td>1.68</td>\n",
       "      <td>1.78</td>\n",
       "      <td>1.80</td>\n",
       "      <td>1.70</td>\n",
       "      <td>1.75</td>\n",
       "      <td>1.78</td>\n",
       "      <td>...</td>\n",
       "      <td>1.71</td>\n",
       "      <td>1.80</td>\n",
       "      <td>1.79</td>\n",
       "      <td>1.77</td>\n",
       "      <td>1.74</td>\n",
       "      <td>1.74</td>\n",
       "      <td>1.80</td>\n",
       "      <td>1.78</td>\n",
       "      <td>1.75</td>\n",
       "      <td>1.69</td>\n",
       "    </tr>\n",
       "    <tr>\n",
       "      <th>2</th>\n",
       "      <td>68177.69</td>\n",
       "      <td>66138.42</td>\n",
       "      <td>72981.88</td>\n",
       "      <td>74304.33</td>\n",
       "      <td>67549.66</td>\n",
       "      <td>69367.34</td>\n",
       "      <td>69169.41</td>\n",
       "      <td>73268.61</td>\n",
       "      <td>74465.84</td>\n",
       "      <td>72503.37</td>\n",
       "      <td>...</td>\n",
       "      <td>69384.71</td>\n",
       "      <td>73438.88</td>\n",
       "      <td>71053.35</td>\n",
       "      <td>71112.62</td>\n",
       "      <td>74916.48</td>\n",
       "      <td>72571.58</td>\n",
       "      <td>66348.97</td>\n",
       "      <td>71063.72</td>\n",
       "      <td>67404.27</td>\n",
       "      <td>74920.24</td>\n",
       "    </tr>\n",
       "    <tr>\n",
       "      <th>3</th>\n",
       "      <td>44889.06</td>\n",
       "      <td>39191.86</td>\n",
       "      <td>40728.46</td>\n",
       "      <td>38576.36</td>\n",
       "      <td>45876.06</td>\n",
       "      <td>47034.00</td>\n",
       "      <td>46611.43</td>\n",
       "      <td>37668.32</td>\n",
       "      <td>40980.89</td>\n",
       "      <td>38466.15</td>\n",
       "      <td>...</td>\n",
       "      <td>47653.60</td>\n",
       "      <td>42625.67</td>\n",
       "      <td>40684.20</td>\n",
       "      <td>46960.73</td>\n",
       "      <td>44546.80</td>\n",
       "      <td>45410.53</td>\n",
       "      <td>47139.44</td>\n",
       "      <td>43095.68</td>\n",
       "      <td>40888.34</td>\n",
       "      <td>39615.19</td>\n",
       "    </tr>\n",
       "    <tr>\n",
       "      <th>4</th>\n",
       "      <td>5.70</td>\n",
       "      <td>5.40</td>\n",
       "      <td>5.28</td>\n",
       "      <td>5.38</td>\n",
       "      <td>5.27</td>\n",
       "      <td>5.61</td>\n",
       "      <td>6.00</td>\n",
       "      <td>5.38</td>\n",
       "      <td>5.34</td>\n",
       "      <td>5.87</td>\n",
       "      <td>...</td>\n",
       "      <td>5.52</td>\n",
       "      <td>5.17</td>\n",
       "      <td>5.67</td>\n",
       "      <td>5.60</td>\n",
       "      <td>5.94</td>\n",
       "      <td>5.73</td>\n",
       "      <td>5.22</td>\n",
       "      <td>5.30</td>\n",
       "      <td>5.73</td>\n",
       "      <td>5.91</td>\n",
       "    </tr>\n",
       "    <tr>\n",
       "      <th>...</th>\n",
       "      <td>...</td>\n",
       "      <td>...</td>\n",
       "      <td>...</td>\n",
       "      <td>...</td>\n",
       "      <td>...</td>\n",
       "      <td>...</td>\n",
       "      <td>...</td>\n",
       "      <td>...</td>\n",
       "      <td>...</td>\n",
       "      <td>...</td>\n",
       "      <td>...</td>\n",
       "      <td>...</td>\n",
       "      <td>...</td>\n",
       "      <td>...</td>\n",
       "      <td>...</td>\n",
       "      <td>...</td>\n",
       "      <td>...</td>\n",
       "      <td>...</td>\n",
       "      <td>...</td>\n",
       "      <td>...</td>\n",
       "      <td>...</td>\n",
       "    </tr>\n",
       "    <tr>\n",
       "      <th>1207</th>\n",
       "      <td>13.00</td>\n",
       "      <td>12.87</td>\n",
       "      <td>13.27</td>\n",
       "      <td>13.04</td>\n",
       "      <td>13.19</td>\n",
       "      <td>12.53</td>\n",
       "      <td>14.31</td>\n",
       "      <td>13.33</td>\n",
       "      <td>13.63</td>\n",
       "      <td>14.55</td>\n",
       "      <td>...</td>\n",
       "      <td>12.89</td>\n",
       "      <td>12.48</td>\n",
       "      <td>12.15</td>\n",
       "      <td>13.15</td>\n",
       "      <td>12.35</td>\n",
       "      <td>13.58</td>\n",
       "      <td>13.86</td>\n",
       "      <td>12.88</td>\n",
       "      <td>13.87</td>\n",
       "      <td>13.51</td>\n",
       "    </tr>\n",
       "    <tr>\n",
       "      <th>1208</th>\n",
       "      <td>48.66</td>\n",
       "      <td>50.11</td>\n",
       "      <td>48.55</td>\n",
       "      <td>50.43</td>\n",
       "      <td>50.09</td>\n",
       "      <td>49.67</td>\n",
       "      <td>48.95</td>\n",
       "      <td>48.65</td>\n",
       "      <td>48.63</td>\n",
       "      <td>48.61</td>\n",
       "      <td>...</td>\n",
       "      <td>47.45</td>\n",
       "      <td>46.93</td>\n",
       "      <td>49.61</td>\n",
       "      <td>47.16</td>\n",
       "      <td>48.17</td>\n",
       "      <td>47.94</td>\n",
       "      <td>49.81</td>\n",
       "      <td>49.89</td>\n",
       "      <td>47.43</td>\n",
       "      <td>47.77</td>\n",
       "    </tr>\n",
       "    <tr>\n",
       "      <th>1209</th>\n",
       "      <td>10160.65</td>\n",
       "      <td>9048.63</td>\n",
       "      <td>8994.94</td>\n",
       "      <td>9514.39</td>\n",
       "      <td>9814.74</td>\n",
       "      <td>10195.24</td>\n",
       "      <td>10031.47</td>\n",
       "      <td>10202.28</td>\n",
       "      <td>9152.99</td>\n",
       "      <td>9591.75</td>\n",
       "      <td>...</td>\n",
       "      <td>10413.41</td>\n",
       "      <td>9068.11</td>\n",
       "      <td>9191.80</td>\n",
       "      <td>9275.04</td>\n",
       "      <td>9848.18</td>\n",
       "      <td>9074.17</td>\n",
       "      <td>9601.74</td>\n",
       "      <td>10366.24</td>\n",
       "      <td>8997.60</td>\n",
       "      <td>9305.77</td>\n",
       "    </tr>\n",
       "    <tr>\n",
       "      <th>1210</th>\n",
       "      <td>34.81</td>\n",
       "      <td>35.07</td>\n",
       "      <td>34.98</td>\n",
       "      <td>32.37</td>\n",
       "      <td>34.16</td>\n",
       "      <td>34.03</td>\n",
       "      <td>33.31</td>\n",
       "      <td>32.48</td>\n",
       "      <td>35.63</td>\n",
       "      <td>32.48</td>\n",
       "      <td>...</td>\n",
       "      <td>33.18</td>\n",
       "      <td>32.76</td>\n",
       "      <td>35.03</td>\n",
       "      <td>32.89</td>\n",
       "      <td>31.91</td>\n",
       "      <td>33.85</td>\n",
       "      <td>35.28</td>\n",
       "      <td>32.49</td>\n",
       "      <td>32.83</td>\n",
       "      <td>34.82</td>\n",
       "    </tr>\n",
       "    <tr>\n",
       "      <th>1211</th>\n",
       "      <td>8489.43</td>\n",
       "      <td>7672.98</td>\n",
       "      <td>9132.14</td>\n",
       "      <td>7985.73</td>\n",
       "      <td>8226.85</td>\n",
       "      <td>8554.28</td>\n",
       "      <td>8838.87</td>\n",
       "      <td>8967.24</td>\n",
       "      <td>8635.14</td>\n",
       "      <td>8544.37</td>\n",
       "      <td>...</td>\n",
       "      <td>7747.70</td>\n",
       "      <td>8609.73</td>\n",
       "      <td>9209.48</td>\n",
       "      <td>8496.33</td>\n",
       "      <td>8724.01</td>\n",
       "      <td>8219.99</td>\n",
       "      <td>8550.86</td>\n",
       "      <td>8679.43</td>\n",
       "      <td>8389.31</td>\n",
       "      <td>8712.80</td>\n",
       "    </tr>\n",
       "  </tbody>\n",
       "</table>\n",
       "<p>1212 rows × 100 columns</p>\n",
       "</div>"
      ],
      "text/plain": [
       "            V1        V2        V3        V4        V5        V6        V7  \\\n",
       "0        39.02     36.49     38.20     38.85     39.38     39.74     37.02   \n",
       "1         1.83      1.71      1.77      1.77      1.68      1.78      1.80   \n",
       "2     68177.69  66138.42  72981.88  74304.33  67549.66  69367.34  69169.41   \n",
       "3     44889.06  39191.86  40728.46  38576.36  45876.06  47034.00  46611.43   \n",
       "4         5.70      5.40      5.28      5.38      5.27      5.61      6.00   \n",
       "...        ...       ...       ...       ...       ...       ...       ...   \n",
       "1207     13.00     12.87     13.27     13.04     13.19     12.53     14.31   \n",
       "1208     48.66     50.11     48.55     50.43     50.09     49.67     48.95   \n",
       "1209  10160.65   9048.63   8994.94   9514.39   9814.74  10195.24  10031.47   \n",
       "1210     34.81     35.07     34.98     32.37     34.16     34.03     33.31   \n",
       "1211   8489.43   7672.98   9132.14   7985.73   8226.85   8554.28   8838.87   \n",
       "\n",
       "            V8        V9       V10  ...       V91       V92       V93  \\\n",
       "0        39.53     38.81     38.79  ...     37.57     36.62     36.92   \n",
       "1         1.70      1.75      1.78  ...      1.71      1.80      1.79   \n",
       "2     73268.61  74465.84  72503.37  ...  69384.71  73438.88  71053.35   \n",
       "3     37668.32  40980.89  38466.15  ...  47653.60  42625.67  40684.20   \n",
       "4         5.38      5.34      5.87  ...      5.52      5.17      5.67   \n",
       "...        ...       ...       ...  ...       ...       ...       ...   \n",
       "1207     13.33     13.63     14.55  ...     12.89     12.48     12.15   \n",
       "1208     48.65     48.63     48.61  ...     47.45     46.93     49.61   \n",
       "1209  10202.28   9152.99   9591.75  ...  10413.41   9068.11   9191.80   \n",
       "1210     32.48     35.63     32.48  ...     33.18     32.76     35.03   \n",
       "1211   8967.24   8635.14   8544.37  ...   7747.70   8609.73   9209.48   \n",
       "\n",
       "           V94       V95       V96       V97       V98       V99      V100  \n",
       "0        38.80     38.52     38.07     36.73     39.46     37.50     39.10  \n",
       "1         1.77      1.74      1.74      1.80      1.78      1.75      1.69  \n",
       "2     71112.62  74916.48  72571.58  66348.97  71063.72  67404.27  74920.24  \n",
       "3     46960.73  44546.80  45410.53  47139.44  43095.68  40888.34  39615.19  \n",
       "4         5.60      5.94      5.73      5.22      5.30      5.73      5.91  \n",
       "...        ...       ...       ...       ...       ...       ...       ...  \n",
       "1207     13.15     12.35     13.58     13.86     12.88     13.87     13.51  \n",
       "1208     47.16     48.17     47.94     49.81     49.89     47.43     47.77  \n",
       "1209   9275.04   9848.18   9074.17   9601.74  10366.24   8997.60   9305.77  \n",
       "1210     32.89     31.91     33.85     35.28     32.49     32.83     34.82  \n",
       "1211   8496.33   8724.01   8219.99   8550.86   8679.43   8389.31   8712.80  \n",
       "\n",
       "[1212 rows x 100 columns]"
      ]
     },
     "execution_count": 16,
     "metadata": {},
     "output_type": "execute_result"
    }
   ],
   "source": [
    "x"
   ]
  },
  {
   "cell_type": "markdown",
   "id": "162ee21c",
   "metadata": {},
   "source": [
    "## Get the Plot of First Two Rows"
   ]
  },
  {
   "cell_type": "code",
   "execution_count": 17,
   "id": "0d3d6cb8",
   "metadata": {},
   "outputs": [
    {
     "data": {
      "text/plain": [
       "Text(0.5, 1.0, 'Valley')"
      ]
     },
     "execution_count": 17,
     "metadata": {},
     "output_type": "execute_result"
    },
    {
     "data": {
      "image/png": "[encoded data removed]",
      "text/plain": [
       "<Figure size 432x288 with 1 Axes>"
      ]
     },
     "metadata": {
      "needs_background": "light"
     },
     "output_type": "display_data"
    }
   ],
   "source": [
    "plt.plot(x.iloc[0,:])\n",
    "plt.title('Valley')"
   ]
  },
  {
   "cell_type": "code",
   "execution_count": 18,
   "id": "6c2a7110",
   "metadata": {},
   "outputs": [
    {
     "data": {
      "text/plain": [
       "Text(0.5, 1.0, 'Hill')"
      ]
     },
     "execution_count": 18,
     "metadata": {},
     "output_type": "execute_result"
    },
    {
     "data": {
      "image/png": "[encoded data removed]",
      "text/plain": [
       "<Figure size 432x288 with 1 Axes>"
      ]
     },
     "metadata": {
      "needs_background": "light"
     },
     "output_type": "display_data"
    }
   ],
   "source": [
    "plt.plot(x.iloc[1,:])\n",
    "plt.title('Hill')"
   ]
  },
  {
   "cell_type": "markdown",
   "id": "1df7c38c",
   "metadata": {},
   "source": [
    "## Get x Variable Standardize"
   ]
  },
  {
   "cell_type": "code",
   "execution_count": 20,
   "id": "b019692e",
   "metadata": {},
   "outputs": [],
   "source": [
    "from sklearn.preprocessing import StandardScaler\n",
    "ss = StandardScaler()"
   ]
  },
  {
   "cell_type": "code",
   "execution_count": 22,
   "id": "fc08a8e3",
   "metadata": {},
   "outputs": [],
   "source": [
    "x = ss.fit_transform(x)"
   ]
  },
  {
   "cell_type": "code",
   "execution_count": 23,
   "id": "3307f39f",
   "metadata": {},
   "outputs": [
    {
     "data": {
      "text/plain": [
       "array([[-0.45248681, -0.45361784, -0.45100881, ..., -0.45609618,\n",
       "        -0.45164274, -0.45545496],\n",
       "       [-0.45455665, -0.45556372, -0.45302369, ..., -0.45821768,\n",
       "        -0.45362255, -0.45755405],\n",
       "       [ 3.33983504,  3.24466709,  3.58338069, ...,  3.5427869 ,\n",
       "         3.27907378,  3.74616847],\n",
       "       ...,\n",
       "       [ 0.11084204,  0.0505953 ,  0.04437307, ...,  0.12533312,\n",
       "         0.04456025,  0.06450317],\n",
       "       [-0.45272112, -0.45369729, -0.45118691, ..., -0.45648861,\n",
       "        -0.45190136, -0.45569511],\n",
       "       [ 0.01782872, -0.02636986,  0.05196137, ...,  0.03036056,\n",
       "         0.01087365,  0.03123129]])"
      ]
     },
     "execution_count": 23,
     "metadata": {},
     "output_type": "execute_result"
    }
   ],
   "source": [
    "x"
   ]
  },
  {
   "cell_type": "code",
   "execution_count": 24,
   "id": "dd595b75",
   "metadata": {},
   "outputs": [
    {
     "data": {
      "text/plain": [
       "(1212, 100)"
      ]
     },
     "execution_count": 24,
     "metadata": {},
     "output_type": "execute_result"
    }
   ],
   "source": [
    "x.shape"
   ]
  },
  {
   "cell_type": "markdown",
   "id": "449c6fc3",
   "metadata": {},
   "source": [
    "## Get Train Test Split"
   ]
  },
  {
   "cell_type": "code",
   "execution_count": 25,
   "id": "c458c652",
   "metadata": {},
   "outputs": [],
   "source": [
    "from sklearn.model_selection import train_test_split\n",
    "x_train, x_test, y_train, y_test = train_test_split(x,y,train_size=0.7, stratify= y, random_state=182529)"
   ]
  },
  {
   "cell_type": "code",
   "execution_count": 26,
   "id": "5921b6cb",
   "metadata": {},
   "outputs": [
    {
     "data": {
      "text/plain": [
       "((848, 100), (364, 100), (848,), (364,))"
      ]
     },
     "execution_count": 26,
     "metadata": {},
     "output_type": "execute_result"
    }
   ],
   "source": [
    "x_train.shape, x_test.shape, y_train.shape, y_test.shape"
   ]
  },
  {
   "cell_type": "markdown",
   "id": "d641c215",
   "metadata": {},
   "source": [
    "## Get Model Train"
   ]
  },
  {
   "cell_type": "code",
   "execution_count": 27,
   "id": "c5fe828a",
   "metadata": {},
   "outputs": [],
   "source": [
    "from sklearn.linear_model import LogisticRegression\n",
    "lr = LogisticRegression()"
   ]
  },
  {
   "cell_type": "code",
   "execution_count": 28,
   "id": "68ced603",
   "metadata": {},
   "outputs": [
    {
     "data": {
      "text/plain": [
       "LogisticRegression()"
      ]
     },
     "execution_count": 28,
     "metadata": {},
     "output_type": "execute_result"
    }
   ],
   "source": [
    "lr.fit(x_train, y_train)"
   ]
  },
  {
   "cell_type": "markdown",
   "id": "ed02b365",
   "metadata": {},
   "source": [
    "## Get Model Prediction"
   ]
  },
  {
   "cell_type": "code",
   "execution_count": 29,
   "id": "09edd83f",
   "metadata": {},
   "outputs": [],
   "source": [
    "y_pred = lr.predict(x_test)"
   ]
  },
  {
   "cell_type": "code",
   "execution_count": 30,
   "id": "cbeecdb1",
   "metadata": {},
   "outputs": [
    {
     "data": {
      "text/plain": [
       "(364,)"
      ]
     },
     "execution_count": 30,
     "metadata": {},
     "output_type": "execute_result"
    }
   ],
   "source": [
    "y_pred.shape"
   ]
  },
  {
   "cell_type": "code",
   "execution_count": 31,
   "id": "dbb55fc3",
   "metadata": {},
   "outputs": [
    {
     "data": {
      "text/plain": [
       "array([0, 0, 0, 0, 0, 0, 0, 0, 0, 1, 0, 0, 0, 0, 1, 0, 0, 0, 0, 0, 0, 0,\n",
       "       0, 0, 0, 0, 0, 0, 0, 0, 0, 0, 1, 0, 0, 1, 0, 0, 0, 0, 0, 0, 0, 0,\n",
       "       0, 0, 0, 0, 0, 0, 0, 0, 1, 0, 1, 0, 1, 0, 1, 0, 0, 0, 1, 0, 1, 0,\n",
       "       0, 0, 0, 0, 0, 0, 1, 0, 0, 0, 0, 0, 0, 0, 0, 0, 1, 1, 0, 0, 0, 0,\n",
       "       0, 0, 0, 1, 0, 0, 0, 0, 0, 0, 0, 1, 1, 0, 0, 1, 1, 0, 0, 0, 0, 1,\n",
       "       0, 0, 1, 0, 0, 0, 0, 1, 0, 0, 0, 0, 0, 0, 0, 0, 0, 0, 1, 0, 0, 0,\n",
       "       0, 0, 0, 0, 0, 0, 0, 1, 0, 0, 0, 0, 0, 0, 0, 0, 0, 0, 0, 0, 0, 1,\n",
       "       0, 0, 0, 0, 0, 0, 0, 1, 1, 0, 0, 0, 1, 0, 0, 0, 0, 0, 0, 0, 0, 0,\n",
       "       1, 0, 1, 0, 0, 0, 1, 0, 1, 0, 0, 0, 0, 0, 1, 1, 0, 0, 0, 0, 0, 0,\n",
       "       1, 0, 0, 1, 1, 0, 0, 0, 0, 0, 0, 0, 0, 0, 0, 1, 0, 1, 0, 0, 0, 0,\n",
       "       1, 0, 1, 0, 0, 1, 0, 0, 0, 0, 0, 0, 1, 0, 0, 0, 0, 1, 0, 0, 0, 1,\n",
       "       0, 0, 0, 0, 1, 0, 0, 0, 0, 0, 0, 1, 0, 0, 0, 0, 1, 0, 1, 1, 0, 1,\n",
       "       0, 0, 0, 0, 0, 0, 0, 0, 1, 0, 0, 1, 0, 0, 1, 0, 1, 0, 0, 0, 1, 0,\n",
       "       1, 0, 0, 0, 1, 0, 1, 0, 0, 1, 1, 0, 0, 0, 0, 1, 0, 1, 0, 0, 0, 0,\n",
       "       0, 0, 1, 0, 0, 0, 0, 1, 0, 0, 0, 0, 0, 0, 0, 0, 0, 0, 0, 0, 0, 0,\n",
       "       0, 1, 0, 0, 0, 0, 1, 0, 0, 0, 0, 0, 0, 0, 0, 1, 1, 0, 0, 0, 0, 0,\n",
       "       0, 0, 0, 1, 0, 0, 0, 0, 1, 0, 1, 0], dtype=int64)"
      ]
     },
     "execution_count": 31,
     "metadata": {},
     "output_type": "execute_result"
    }
   ],
   "source": [
    "y_pred"
   ]
  },
  {
   "cell_type": "markdown",
   "id": "7a12437c",
   "metadata": {},
   "source": [
    "## Get Probability of Each Predicted Class"
   ]
  },
  {
   "cell_type": "code",
   "execution_count": 32,
   "id": "56b86004",
   "metadata": {},
   "outputs": [
    {
     "data": {
      "text/plain": [
       "array([[0.51068423, 0.48931577],\n",
       "       [0.51476218, 0.48523782],\n",
       "       [0.51065211, 0.48934789],\n",
       "       [0.51081196, 0.48918804],\n",
       "       [0.50841601, 0.49158399],\n",
       "       [0.50708861, 0.49291139],\n",
       "       [0.59708969, 0.40291031],\n",
       "       [0.51069479, 0.48930521],\n",
       "       [0.51062846, 0.48937154],\n",
       "       [0.48288616, 0.51711384],\n",
       "       [0.5107092 , 0.4892908 ],\n",
       "       [0.51110646, 0.48889354],\n",
       "       [0.51048356, 0.48951644],\n",
       "       [0.51074236, 0.48925764],\n",
       "       [0.21083329, 0.78916671],\n",
       "       [0.51066879, 0.48933121],\n",
       "       [0.51095932, 0.48904068],\n",
       "       [0.51004949, 0.48995051],\n",
       "       [0.51070181, 0.48929819],\n",
       "       [0.51023822, 0.48976178],\n",
       "       [0.51140576, 0.48859424],\n",
       "       [0.51087535, 0.48912465],\n",
       "       [0.5107208 , 0.4892792 ],\n",
       "       [0.51101212, 0.48898788],\n",
       "       [0.5106835 , 0.4893165 ],\n",
       "       [0.51046016, 0.48953984],\n",
       "       [0.5099785 , 0.4900215 ],\n",
       "       [0.54550118, 0.45449882],\n",
       "       [0.51179638, 0.48820362],\n",
       "       [0.8995219 , 0.1004781 ],\n",
       "       [0.51064688, 0.48935312],\n",
       "       [0.51220507, 0.48779493],\n",
       "       [0.46428587, 0.53571413],\n",
       "       [0.50839241, 0.49160759],\n",
       "       [0.50569678, 0.49430322],\n",
       "       [0.48887809, 0.51112191],\n",
       "       [0.51240065, 0.48759935],\n",
       "       [0.50912372, 0.49087628],\n",
       "       [0.57548724, 0.42451276],\n",
       "       [0.5104934 , 0.4895066 ],\n",
       "       [0.51038793, 0.48961207],\n",
       "       [0.51672584, 0.48327416],\n",
       "       [0.50314645, 0.49685355],\n",
       "       [0.5064928 , 0.4935072 ],\n",
       "       [0.5107282 , 0.4892718 ],\n",
       "       [0.79180452, 0.20819548],\n",
       "       [0.51035179, 0.48964821],\n",
       "       [0.6316701 , 0.3683299 ],\n",
       "       [0.51072656, 0.48927344],\n",
       "       [0.53831249, 0.46168751],\n",
       "       [0.58485975, 0.41514025],\n",
       "       [0.51066666, 0.48933334],\n",
       "       [0.49574245, 0.50425755],\n",
       "       [0.51002061, 0.48997939],\n",
       "       [0.38648794, 0.61351206],\n",
       "       [0.51067636, 0.48932364],\n",
       "       [0.24597546, 0.75402454],\n",
       "       [0.55131648, 0.44868352],\n",
       "       [0.48836007, 0.51163993],\n",
       "       [0.51393485, 0.48606515],\n",
       "       [0.5107959 , 0.4892041 ],\n",
       "       [0.51137994, 0.48862006],\n",
       "       [0.26461987, 0.73538013],\n",
       "       [0.50220705, 0.49779295],\n",
       "       [0.2752649 , 0.7247351 ],\n",
       "       [0.51063016, 0.48936984],\n",
       "       [0.51076546, 0.48923454],\n",
       "       [0.51071387, 0.48928613],\n",
       "       [0.54224563, 0.45775437],\n",
       "       [0.50315667, 0.49684333],\n",
       "       [0.57116971, 0.42883029],\n",
       "       [0.5673038 , 0.4326962 ],\n",
       "       [0.3980597 , 0.6019403 ],\n",
       "       [0.50899256, 0.49100744],\n",
       "       [0.51075045, 0.48924955],\n",
       "       [0.51104713, 0.48895287],\n",
       "       [0.5112282 , 0.4887718 ],\n",
       "       [0.50113984, 0.49886016],\n",
       "       [0.51069676, 0.48930324],\n",
       "       [0.50951511, 0.49048489],\n",
       "       [0.51031348, 0.48968652],\n",
       "       [0.50925296, 0.49074704],\n",
       "       [0.26632275, 0.73367725],\n",
       "       [0.4563985 , 0.5436015 ],\n",
       "       [0.50435201, 0.49564799],\n",
       "       [0.98180257, 0.01819743],\n",
       "       [0.61460939, 0.38539061],\n",
       "       [0.51143508, 0.48856492],\n",
       "       [0.88642245, 0.11357755],\n",
       "       [0.51086655, 0.48913345],\n",
       "       [0.51071269, 0.48928731],\n",
       "       [0.29600612, 0.70399388],\n",
       "       [0.51073337, 0.48926663],\n",
       "       [0.51085819, 0.48914181],\n",
       "       [0.51079175, 0.48920825],\n",
       "       [0.51714293, 0.48285707],\n",
       "       [0.51063909, 0.48936091],\n",
       "       [0.50294279, 0.49705721],\n",
       "       [0.7387204 , 0.2612796 ],\n",
       "       [0.4516283 , 0.5483717 ],\n",
       "       [0.40151589, 0.59848411],\n",
       "       [0.51069866, 0.48930134],\n",
       "       [0.51169572, 0.48830428],\n",
       "       [0.30818586, 0.69181414],\n",
       "       [0.45106492, 0.54893508],\n",
       "       [0.56902412, 0.43097588],\n",
       "       [0.88649693, 0.11350307],\n",
       "       [0.51524186, 0.48475814],\n",
       "       [0.51348439, 0.48651561],\n",
       "       [0.46403681, 0.53596319],\n",
       "       [0.5104679 , 0.4895321 ],\n",
       "       [0.50921013, 0.49078987],\n",
       "       [0.03736022, 0.96263978],\n",
       "       [0.50657835, 0.49342165],\n",
       "       [0.51071906, 0.48928094],\n",
       "       [0.51063749, 0.48936251],\n",
       "       [0.50582062, 0.49417938],\n",
       "       [0.47625856, 0.52374144],\n",
       "       [0.75050581, 0.24949419],\n",
       "       [0.5977807 , 0.4022193 ],\n",
       "       [0.50758168, 0.49241832],\n",
       "       [0.51068761, 0.48931239],\n",
       "       [0.51085973, 0.48914027],\n",
       "       [0.51058103, 0.48941897],\n",
       "       [0.51072144, 0.48927856],\n",
       "       [0.51873469, 0.48126531],\n",
       "       [0.51070904, 0.48929096],\n",
       "       [0.51073694, 0.48926306],\n",
       "       [0.12485895, 0.87514105],\n",
       "       [0.56595377, 0.43404623],\n",
       "       [0.50934074, 0.49065926],\n",
       "       [0.53339243, 0.46660757],\n",
       "       [0.64225766, 0.35774234],\n",
       "       [0.51229756, 0.48770244],\n",
       "       [0.51067511, 0.48932489],\n",
       "       [0.51069397, 0.48930603],\n",
       "       [0.51071141, 0.48928859],\n",
       "       [0.51073809, 0.48926191],\n",
       "       [0.51186777, 0.48813223],\n",
       "       [0.43878129, 0.56121871],\n",
       "       [0.57121334, 0.42878666],\n",
       "       [0.5111476 , 0.4888524 ],\n",
       "       [0.51081258, 0.48918742],\n",
       "       [0.51069218, 0.48930782],\n",
       "       [0.51227041, 0.48772959],\n",
       "       [0.51068059, 0.48931941],\n",
       "       [0.51111949, 0.48888051],\n",
       "       [0.53883548, 0.46116452],\n",
       "       [0.51072503, 0.48927497],\n",
       "       [0.51124164, 0.48875836],\n",
       "       [0.51096534, 0.48903466],\n",
       "       [0.51761198, 0.48238802],\n",
       "       [0.51090737, 0.48909263],\n",
       "       [0.28432299, 0.71567701],\n",
       "       [0.51164681, 0.48835319],\n",
       "       [0.51076039, 0.48923961],\n",
       "       [0.5141743 , 0.4858257 ],\n",
       "       [0.50158567, 0.49841433],\n",
       "       [0.5111638 , 0.4888362 ],\n",
       "       [0.51049359, 0.48950641],\n",
       "       [0.51403403, 0.48596597],\n",
       "       [0.30858493, 0.69141507],\n",
       "       [0.47451366, 0.52548634],\n",
       "       [0.68580496, 0.31419504],\n",
       "       [0.51068045, 0.48931955],\n",
       "       [0.84579145, 0.15420855],\n",
       "       [0.47250167, 0.52749833],\n",
       "       [0.62940778, 0.37059222],\n",
       "       [0.54389313, 0.45610687],\n",
       "       [0.51081032, 0.48918968],\n",
       "       [0.5096435 , 0.4903565 ],\n",
       "       [0.57342073, 0.42657927],\n",
       "       [0.51063598, 0.48936402],\n",
       "       [0.50535501, 0.49464499],\n",
       "       [0.77698745, 0.22301255],\n",
       "       [0.51112423, 0.48887577],\n",
       "       [0.49737814, 0.50262186],\n",
       "       [0.51018343, 0.48981657],\n",
       "       [0.14010089, 0.85989911],\n",
       "       [0.51216143, 0.48783857],\n",
       "       [0.5026339 , 0.4973661 ],\n",
       "       [0.50252346, 0.49747654],\n",
       "       [0.47949302, 0.52050698],\n",
       "       [0.51075497, 0.48924503],\n",
       "       [0.07474608, 0.92525392],\n",
       "       [0.51116336, 0.48883664],\n",
       "       [0.51004076, 0.48995924],\n",
       "       [0.51057964, 0.48942036],\n",
       "       [0.51067803, 0.48932197],\n",
       "       [0.51064889, 0.48935111],\n",
       "       [0.48722861, 0.51277139],\n",
       "       [0.13280397, 0.86719603],\n",
       "       [0.50431363, 0.49568637],\n",
       "       [0.51067587, 0.48932413],\n",
       "       [0.51685413, 0.48314587],\n",
       "       [0.51064662, 0.48935338],\n",
       "       [0.51087274, 0.48912726],\n",
       "       [0.50986353, 0.49013647],\n",
       "       [0.3451975 , 0.6548025 ],\n",
       "       [0.51405384, 0.48594616],\n",
       "       [0.51072403, 0.48927597],\n",
       "       [0.2609537 , 0.7390463 ],\n",
       "       [0.48970718, 0.51029282],\n",
       "       [0.51056601, 0.48943399],\n",
       "       [0.51098727, 0.48901273],\n",
       "       [0.51715246, 0.48284754],\n",
       "       [0.60388858, 0.39611142],\n",
       "       [0.53368446, 0.46631554],\n",
       "       [0.5106353 , 0.4893647 ],\n",
       "       [0.97150266, 0.02849734],\n",
       "       [0.69937516, 0.30062484],\n",
       "       [0.50336646, 0.49663354],\n",
       "       [0.50692727, 0.49307273],\n",
       "       [0.20552021, 0.79447979],\n",
       "       [0.5107115 , 0.4892885 ],\n",
       "       [0.45715023, 0.54284977],\n",
       "       [0.51303242, 0.48696758],\n",
       "       [0.51069234, 0.48930766],\n",
       "       [0.881139  , 0.118861  ],\n",
       "       [0.51203805, 0.48796195],\n",
       "       [0.41606808, 0.58393192],\n",
       "       [0.54796997, 0.45203003],\n",
       "       [0.4918708 , 0.5081292 ],\n",
       "       [0.51070539, 0.48929461],\n",
       "       [0.51045948, 0.48954052],\n",
       "       [0.28506238, 0.71493762],\n",
       "       [0.54321951, 0.45678049],\n",
       "       [0.50981003, 0.49018997],\n",
       "       [0.51092989, 0.48907011],\n",
       "       [0.5107289 , 0.4892711 ],\n",
       "       [0.50448349, 0.49551651],\n",
       "       [0.51089649, 0.48910351],\n",
       "       [0.49899779, 0.50100221],\n",
       "       [0.51226552, 0.48773448],\n",
       "       [0.51641933, 0.48358067],\n",
       "       [0.59253786, 0.40746214],\n",
       "       [0.50105381, 0.49894619],\n",
       "       [0.00314487, 0.99685513],\n",
       "       [0.51052802, 0.48947198],\n",
       "       [0.51072363, 0.48927637],\n",
       "       [0.77238359, 0.22761641],\n",
       "       [0.49151023, 0.50848977],\n",
       "       [0.50217176, 0.49782824],\n",
       "       [0.51072611, 0.48927389],\n",
       "       [0.5127433 , 0.4872567 ],\n",
       "       [0.51237969, 0.48762031],\n",
       "       [0.34442895, 0.65557105],\n",
       "       [0.51066086, 0.48933914],\n",
       "       [0.51074935, 0.48925065],\n",
       "       [0.51155374, 0.48844626],\n",
       "       [0.51107373, 0.48892627],\n",
       "       [0.51018765, 0.48981235],\n",
       "       [0.51073546, 0.48926454],\n",
       "       [0.49429964, 0.50570036],\n",
       "       [0.78491774, 0.21508226],\n",
       "       [0.51056989, 0.48943011],\n",
       "       [0.51067915, 0.48932085],\n",
       "       [0.50702752, 0.49297248],\n",
       "       [0.48753066, 0.51246934],\n",
       "       [0.50866127, 0.49133873],\n",
       "       [0.41985545, 0.58014455],\n",
       "       [0.06699571, 0.93300429],\n",
       "       [0.50443464, 0.49556536],\n",
       "       [0.49327492, 0.50672508],\n",
       "       [0.51011134, 0.48988866],\n",
       "       [0.51072306, 0.48927694],\n",
       "       [0.51053556, 0.48946444],\n",
       "       [0.51128502, 0.48871498],\n",
       "       [0.51072494, 0.48927506],\n",
       "       [0.51075838, 0.48924162],\n",
       "       [0.51071066, 0.48928934],\n",
       "       [0.5123851 , 0.4876149 ],\n",
       "       [0.09212524, 0.90787476],\n",
       "       [0.51087085, 0.48912915],\n",
       "       [0.51071878, 0.48928122],\n",
       "       [0.14905291, 0.85094709],\n",
       "       [0.51070217, 0.48929783],\n",
       "       [0.51059411, 0.48940589],\n",
       "       [0.49615571, 0.50384429],\n",
       "       [0.5107626 , 0.4892374 ],\n",
       "       [0.25144408, 0.74855592],\n",
       "       [0.51042649, 0.48957351],\n",
       "       [0.51140748, 0.48859252],\n",
       "       [0.51082508, 0.48917492],\n",
       "       [0.42486208, 0.57513792],\n",
       "       [0.51062125, 0.48937875],\n",
       "       [0.49030177, 0.50969823],\n",
       "       [0.51227534, 0.48772466],\n",
       "       [0.51068388, 0.48931612],\n",
       "       [0.50737244, 0.49262756],\n",
       "       [0.49379885, 0.50620115],\n",
       "       [0.50212448, 0.49787552],\n",
       "       [0.48190706, 0.51809294],\n",
       "       [0.51078379, 0.48921621],\n",
       "       [0.50669329, 0.49330671],\n",
       "       [0.46856954, 0.53143046],\n",
       "       [0.34485902, 0.65514098],\n",
       "       [0.51067144, 0.48932856],\n",
       "       [0.73000686, 0.26999314],\n",
       "       [0.50992189, 0.49007811],\n",
       "       [0.51027957, 0.48972043],\n",
       "       [0.45383545, 0.54616455],\n",
       "       [0.52323895, 0.47676105],\n",
       "       [0.32789528, 0.67210472],\n",
       "       [0.51041141, 0.48958859],\n",
       "       [0.50975386, 0.49024614],\n",
       "       [0.51075014, 0.48924986],\n",
       "       [0.50933909, 0.49066091],\n",
       "       [0.51073724, 0.48926276],\n",
       "       [0.77246436, 0.22753564],\n",
       "       [0.3018462 , 0.6981538 ],\n",
       "       [0.98760869, 0.01239131],\n",
       "       [0.50718941, 0.49281059],\n",
       "       [0.51087948, 0.48912052],\n",
       "       [0.51081533, 0.48918467],\n",
       "       [0.40527214, 0.59472786],\n",
       "       [0.51072256, 0.48927744],\n",
       "       [0.51054916, 0.48945084],\n",
       "       [0.51074477, 0.48925523],\n",
       "       [0.52538324, 0.47461676],\n",
       "       [0.5106957 , 0.4893043 ],\n",
       "       [0.51052892, 0.48947108],\n",
       "       [0.51072328, 0.48927672],\n",
       "       [0.51743443, 0.48256557],\n",
       "       [0.5107391 , 0.4892609 ],\n",
       "       [0.62805681, 0.37194319],\n",
       "       [0.5210926 , 0.4789074 ],\n",
       "       [0.51070874, 0.48929126],\n",
       "       [0.51059301, 0.48940699],\n",
       "       [0.54053386, 0.45946614],\n",
       "       [0.51070102, 0.48929898],\n",
       "       [0.47588205, 0.52411795],\n",
       "       [0.52189469, 0.47810531],\n",
       "       [0.51135479, 0.48864521],\n",
       "       [0.66552053, 0.33447947],\n",
       "       [0.51053691, 0.48946309],\n",
       "       [0.27921932, 0.72078068],\n",
       "       [0.51060726, 0.48939274],\n",
       "       [0.56339935, 0.43660065],\n",
       "       [0.51059933, 0.48940067],\n",
       "       [0.77042719, 0.22957281],\n",
       "       [0.83576507, 0.16423493],\n",
       "       [0.5021644 , 0.4978356 ],\n",
       "       [0.51030943, 0.48969057],\n",
       "       [0.61851537, 0.38148463],\n",
       "       [0.20690862, 0.79309138],\n",
       "       [0.4959788 , 0.5040212 ],\n",
       "       [0.51503418, 0.48496582],\n",
       "       [0.51082907, 0.48917093],\n",
       "       [0.73631117, 0.26368883],\n",
       "       [0.51098508, 0.48901492],\n",
       "       [0.50155604, 0.49844396],\n",
       "       [0.50848147, 0.49151853],\n",
       "       [0.51186667, 0.48813333],\n",
       "       [0.50760323, 0.49239677],\n",
       "       [0.47989254, 0.52010746],\n",
       "       [0.510739  , 0.489261  ],\n",
       "       [0.52589325, 0.47410675],\n",
       "       [0.51073237, 0.48926763],\n",
       "       [0.52874948, 0.47125052],\n",
       "       [0.46197809, 0.53802191],\n",
       "       [0.51037404, 0.48962596],\n",
       "       [0.22728059, 0.77271941],\n",
       "       [0.51069242, 0.48930758]])"
      ]
     },
     "execution_count": 32,
     "metadata": {},
     "output_type": "execute_result"
    }
   ],
   "source": [
    "lr.predict_proba(x_test)"
   ]
  },
  {
   "cell_type": "markdown",
   "id": "6cd9704e",
   "metadata": {},
   "source": [
    "## Get Model Evaluation"
   ]
  },
  {
   "cell_type": "code",
   "execution_count": 33,
   "id": "cd13a1c8",
   "metadata": {},
   "outputs": [],
   "source": [
    "from sklearn.metrics import confusion_matrix, classification_report"
   ]
  },
  {
   "cell_type": "code",
   "execution_count": 34,
   "id": "fe7d2655",
   "metadata": {},
   "outputs": [
    {
     "name": "stdout",
     "output_type": "stream",
     "text": [
      "[[179   3]\n",
      " [114  68]]\n"
     ]
    }
   ],
   "source": [
    "print(confusion_matrix(y_test, y_pred))"
   ]
  },
  {
   "cell_type": "code",
   "execution_count": 35,
   "id": "3e737aaf",
   "metadata": {},
   "outputs": [
    {
     "name": "stdout",
     "output_type": "stream",
     "text": [
      "              precision    recall  f1-score   support\n",
      "\n",
      "           0       0.61      0.98      0.75       182\n",
      "           1       0.96      0.37      0.54       182\n",
      "\n",
      "    accuracy                           0.68       364\n",
      "   macro avg       0.78      0.68      0.65       364\n",
      "weighted avg       0.78      0.68      0.65       364\n",
      "\n"
     ]
    }
   ],
   "source": [
    "print(classification_report(y_test, y_pred))"
   ]
  },
  {
   "cell_type": "markdown",
   "id": "fa32c001",
   "metadata": {},
   "source": [
    "## Get Future Predictions"
   ]
  },
  {
   "cell_type": "code",
   "execution_count": 36,
   "id": "184d378f",
   "metadata": {},
   "outputs": [],
   "source": [
    "x_new = df.sample(1)"
   ]
  },
  {
   "cell_type": "code",
   "execution_count": 37,
   "id": "5b519956",
   "metadata": {},
   "outputs": [
    {
     "data": {
      "text/html": [
       "<div>\n",
       "<style scoped>\n",
       "    .dataframe tbody tr th:only-of-type {\n",
       "        vertical-align: middle;\n",
       "    }\n",
       "\n",
       "    .dataframe tbody tr th {\n",
       "        vertical-align: top;\n",
       "    }\n",
       "\n",
       "    .dataframe thead th {\n",
       "        text-align: right;\n",
       "    }\n",
       "</style>\n",
       "<table border=\"1\" class=\"dataframe\">\n",
       "  <thead>\n",
       "    <tr style=\"text-align: right;\">\n",
       "      <th></th>\n",
       "      <th>V1</th>\n",
       "      <th>V2</th>\n",
       "      <th>V3</th>\n",
       "      <th>V4</th>\n",
       "      <th>V5</th>\n",
       "      <th>V6</th>\n",
       "      <th>V7</th>\n",
       "      <th>V8</th>\n",
       "      <th>V9</th>\n",
       "      <th>V10</th>\n",
       "      <th>...</th>\n",
       "      <th>V92</th>\n",
       "      <th>V93</th>\n",
       "      <th>V94</th>\n",
       "      <th>V95</th>\n",
       "      <th>V96</th>\n",
       "      <th>V97</th>\n",
       "      <th>V98</th>\n",
       "      <th>V99</th>\n",
       "      <th>V100</th>\n",
       "      <th>Class</th>\n",
       "    </tr>\n",
       "  </thead>\n",
       "  <tbody>\n",
       "    <tr>\n",
       "      <th>1121</th>\n",
       "      <td>11955.34</td>\n",
       "      <td>13241.85</td>\n",
       "      <td>12182.32</td>\n",
       "      <td>13804.67</td>\n",
       "      <td>14136.86</td>\n",
       "      <td>12386.02</td>\n",
       "      <td>14029.07</td>\n",
       "      <td>12569.57</td>\n",
       "      <td>13191.62</td>\n",
       "      <td>13850.32</td>\n",
       "      <td>...</td>\n",
       "      <td>12020.94</td>\n",
       "      <td>11477.01</td>\n",
       "      <td>14101.9</td>\n",
       "      <td>12195.64</td>\n",
       "      <td>11802.07</td>\n",
       "      <td>13434.99</td>\n",
       "      <td>11715.53</td>\n",
       "      <td>12541.17</td>\n",
       "      <td>11316.27</td>\n",
       "      <td>0</td>\n",
       "    </tr>\n",
       "  </tbody>\n",
       "</table>\n",
       "<p>1 rows × 101 columns</p>\n",
       "</div>"
      ],
      "text/plain": [
       "            V1        V2        V3        V4        V5        V6        V7  \\\n",
       "1121  11955.34  13241.85  12182.32  13804.67  14136.86  12386.02  14029.07   \n",
       "\n",
       "            V8        V9       V10  ...       V92       V93      V94  \\\n",
       "1121  12569.57  13191.62  13850.32  ...  12020.94  11477.01  14101.9   \n",
       "\n",
       "           V95       V96       V97       V98       V99      V100  Class  \n",
       "1121  12195.64  11802.07  13434.99  11715.53  12541.17  11316.27      0  \n",
       "\n",
       "[1 rows x 101 columns]"
      ]
     },
     "execution_count": 37,
     "metadata": {},
     "output_type": "execute_result"
    }
   ],
   "source": [
    "x_new"
   ]
  },
  {
   "cell_type": "code",
   "execution_count": 38,
   "id": "d3a419e0",
   "metadata": {},
   "outputs": [
    {
     "data": {
      "text/plain": [
       "(1, 101)"
      ]
     },
     "execution_count": 38,
     "metadata": {},
     "output_type": "execute_result"
    }
   ],
   "source": [
    "x_new.shape"
   ]
  },
  {
   "cell_type": "code",
   "execution_count": 39,
   "id": "3beedf34",
   "metadata": {},
   "outputs": [],
   "source": [
    "x_new = x_new.drop('Class', axis=1)"
   ]
  },
  {
   "cell_type": "code",
   "execution_count": 40,
   "id": "56779a01",
   "metadata": {},
   "outputs": [
    {
     "data": {
      "text/html": [
       "<div>\n",
       "<style scoped>\n",
       "    .dataframe tbody tr th:only-of-type {\n",
       "        vertical-align: middle;\n",
       "    }\n",
       "\n",
       "    .dataframe tbody tr th {\n",
       "        vertical-align: top;\n",
       "    }\n",
       "\n",
       "    .dataframe thead th {\n",
       "        text-align: right;\n",
       "    }\n",
       "</style>\n",
       "<table border=\"1\" class=\"dataframe\">\n",
       "  <thead>\n",
       "    <tr style=\"text-align: right;\">\n",
       "      <th></th>\n",
       "      <th>V1</th>\n",
       "      <th>V2</th>\n",
       "      <th>V3</th>\n",
       "      <th>V4</th>\n",
       "      <th>V5</th>\n",
       "      <th>V6</th>\n",
       "      <th>V7</th>\n",
       "      <th>V8</th>\n",
       "      <th>V9</th>\n",
       "      <th>V10</th>\n",
       "      <th>...</th>\n",
       "      <th>V91</th>\n",
       "      <th>V92</th>\n",
       "      <th>V93</th>\n",
       "      <th>V94</th>\n",
       "      <th>V95</th>\n",
       "      <th>V96</th>\n",
       "      <th>V97</th>\n",
       "      <th>V98</th>\n",
       "      <th>V99</th>\n",
       "      <th>V100</th>\n",
       "    </tr>\n",
       "  </thead>\n",
       "  <tbody>\n",
       "    <tr>\n",
       "      <th>1121</th>\n",
       "      <td>11955.34</td>\n",
       "      <td>13241.85</td>\n",
       "      <td>12182.32</td>\n",
       "      <td>13804.67</td>\n",
       "      <td>14136.86</td>\n",
       "      <td>12386.02</td>\n",
       "      <td>14029.07</td>\n",
       "      <td>12569.57</td>\n",
       "      <td>13191.62</td>\n",
       "      <td>13850.32</td>\n",
       "      <td>...</td>\n",
       "      <td>13798.33</td>\n",
       "      <td>12020.94</td>\n",
       "      <td>11477.01</td>\n",
       "      <td>14101.9</td>\n",
       "      <td>12195.64</td>\n",
       "      <td>11802.07</td>\n",
       "      <td>13434.99</td>\n",
       "      <td>11715.53</td>\n",
       "      <td>12541.17</td>\n",
       "      <td>11316.27</td>\n",
       "    </tr>\n",
       "  </tbody>\n",
       "</table>\n",
       "<p>1 rows × 100 columns</p>\n",
       "</div>"
      ],
      "text/plain": [
       "            V1        V2        V3        V4        V5        V6        V7  \\\n",
       "1121  11955.34  13241.85  12182.32  13804.67  14136.86  12386.02  14029.07   \n",
       "\n",
       "            V8        V9       V10  ...       V91       V92       V93  \\\n",
       "1121  12569.57  13191.62  13850.32  ...  13798.33  12020.94  11477.01   \n",
       "\n",
       "          V94       V95       V96       V97       V98       V99      V100  \n",
       "1121  14101.9  12195.64  11802.07  13434.99  11715.53  12541.17  11316.27  \n",
       "\n",
       "[1 rows x 100 columns]"
      ]
     },
     "execution_count": 40,
     "metadata": {},
     "output_type": "execute_result"
    }
   ],
   "source": [
    "x_new"
   ]
  },
  {
   "cell_type": "code",
   "execution_count": 41,
   "id": "871f827a",
   "metadata": {},
   "outputs": [
    {
     "data": {
      "text/plain": [
       "(1, 100)"
      ]
     },
     "execution_count": 41,
     "metadata": {},
     "output_type": "execute_result"
    }
   ],
   "source": [
    "x_new.shape"
   ]
  },
  {
   "cell_type": "code",
   "execution_count": 42,
   "id": "7bef9c87",
   "metadata": {},
   "outputs": [],
   "source": [
    "x_new = ss.fit_transform(x_new)"
   ]
  },
  {
   "cell_type": "code",
   "execution_count": 43,
   "id": "2556737c",
   "metadata": {},
   "outputs": [],
   "source": [
    "y_pred_new = lr.predict(x_new)"
   ]
  },
  {
   "cell_type": "code",
   "execution_count": 44,
   "id": "92d53ded",
   "metadata": {},
   "outputs": [
    {
     "data": {
      "text/plain": [
       "array([1], dtype=int64)"
      ]
     },
     "execution_count": 44,
     "metadata": {},
     "output_type": "execute_result"
    }
   ],
   "source": [
    "y_pred_new"
   ]
  },
  {
   "cell_type": "code",
   "execution_count": 46,
   "id": "bcc5c17a",
   "metadata": {},
   "outputs": [
    {
     "data": {
      "text/plain": [
       "array([[0.49625767, 0.50374233]])"
      ]
     },
     "execution_count": 46,
     "metadata": {},
     "output_type": "execute_result"
    }
   ],
   "source": [
    "lr.predict_proba(x_new)"
   ]
  }
 ],
 "metadata": {
  "kernelspec": {
   "display_name": "Python 3 (ipykernel)",
   "language": "python",
   "name": "python3"
  },
  "language_info": {
   "codemirror_mode": {
    "name": "ipython",
    "version": 3
   },
   "file_extension": ".py",
   "mimetype": "text/x-python",
   "name": "python",
   "nbconvert_exporter": "python",
   "pygments_lexer": "ipython3",
   "version": "3.9.9"
  }
 },
 "nbformat": 4,
 "nbformat_minor": 5
}
